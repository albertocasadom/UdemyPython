{
 "cells": [
  {
   "cell_type": "markdown",
   "metadata": {},
   "source": [
    "# Milestone Project 2 - Blackjack Game\n",
    "In this milestone project you will be creating a Complete BlackJack Card Game in Python.\n",
    "\n",
    "Here are the requirements:\n",
    "\n",
    "* You need to create a simple text-based [BlackJack](https://en.wikipedia.org/wiki/Blackjack) game\n",
    "* The game needs to have one player versus an automated dealer.\n",
    "* The player can stand or hit.\n",
    "* The player must be able to pick their betting amount.\n",
    "* You need to keep track of the player's total money.\n",
    "* You need to alert the player of wins, losses, or busts, etc...\n",
    "\n",
    "And most importantly:\n",
    "\n",
    "* **You must use OOP and classes in some portion of your game. You can not just use functions in your game. Use classes to help you define the Deck and the Player's hand. There are many right ways to do this, so explore it well!**\n",
    "\n",
    "\n",
    "Feel free to expand this game. Try including multiple players. Try adding in Double-Down and card splits! Remember to you are free to use any resources you want and as always:\n",
    "\n",
    "# HAVE FUN!"
   ]
  },
  {
   "cell_type": "code",
   "execution_count": null,
   "metadata": {},
   "outputs": [],
   "source": [
    "class Player():\n",
    "    \n",
    "    def __init__(self, balance=1000, points = 0):\n",
    "        self.balance = balance\n",
    "        self.points = points\n",
    "        \n",
    "    def hit(points):\n",
    "        self.points += points\n",
    "        return True\n",
    "    \n",
    "    def bet():\n",
    "        while True:\n",
    "            try:\n",
    "                bet = int(input(\"Please introduce the amount you want to bet: \"))\n",
    "                \n",
    "            except:\n",
    "                print(\"Please introduce a valid number\")\n",
    "                continue\n",
    "            else:\n",
    "                if \n",
    "    \n",
    "class Dealer():\n",
    "    \n",
    "    deck = {\"hearts\":[1,2,3,4,5,6,7,8,9,'J','Q','K'], \"diamonds\":[1,2,3,4,5,6,7,8,9,'J','Q','K'], \"spades\":[1,2,3,4,5,6,7,8,9,'J','Q','K'], \"clubs\":[1,2,3,4,5,6,7,8,9,'J','Q','K']}\n",
    "    \n",
    "    def __init__(self, turn = 'HUMAN'):\n",
    "        self.turn = turn\n",
    "    \n",
    "    def init_deal():\n",
    "        \n",
    "        \n",
    " \n",
    "if __name__ == '__main__':\n",
    "    \n",
    "    humanplayer = Player()\n",
    "    dealer = Dealer()\n",
    "    "
   ]
  }
 ],
 "metadata": {
  "kernelspec": {
   "display_name": "Python 3",
   "language": "python",
   "name": "python3"
  },
  "language_info": {
   "codemirror_mode": {
    "name": "ipython",
    "version": 3
   },
   "file_extension": ".py",
   "mimetype": "text/x-python",
   "name": "python",
   "nbconvert_exporter": "python",
   "pygments_lexer": "ipython3",
   "version": "3.7.0"
  }
 },
 "nbformat": 4,
 "nbformat_minor": 1
}
