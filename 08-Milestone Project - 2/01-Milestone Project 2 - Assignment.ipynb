{
 "cells": [
  {
   "cell_type": "markdown",
   "metadata": {},
   "source": [
    "# Milestone Project 2 - Blackjack Game\n",
    "In this milestone project you will be creating a Complete BlackJack Card Game in Python.\n",
    "\n",
    "Here are the requirements:\n",
    "\n",
    "* You need to create a simple text-based [BlackJack](https://en.wikipedia.org/wiki/Blackjack) game\n",
    "* The game needs to have one player versus an automated dealer.\n",
    "* The player can stand or hit.\n",
    "* The player must be able to pick their betting amount.\n",
    "* You need to keep track of the player's total money.\n",
    "* You need to alert the player of wins, losses, or busts, etc...\n",
    "\n",
    "And most importantly:\n",
    "\n",
    "* **You must use OOP and classes in some portion of your game. You can not just use functions in your game. Use classes to help you define the Deck and the Player's hand. There are many right ways to do this, so explore it well!**\n",
    "\n",
    "\n",
    "Feel free to expand this game. Try including multiple players. Try adding in Double-Down and card splits! Remember to you are free to use any resources you want and as always:\n",
    "\n",
    "# HAVE FUN!"
   ]
  },
  {
   "cell_type": "code",
   "execution_count": null,
   "metadata": {},
   "outputs": [],
   "source": [
    "import random\n",
    "\n",
    "class Player():\n",
    "    \n",
    "    def __init__(self, balance=1000, points = 0, cards=(0,0)):\n",
    "        self.balance = balance\n",
    "        self.points = points\n",
    "        self.cards = cards\n",
    "        \n",
    "    def hit(self,points):\n",
    "        self.points += points\n",
    "        return True\n",
    "    \n",
    "    def bet(self):\n",
    "        while True:\n",
    "            try:\n",
    "                bet = int(input(\"Please introduce the amount you want to bet: \")) \n",
    "            except:\n",
    "                print(\"Please introduce a valid number\")\n",
    "                continue\n",
    "            else:\n",
    "                if bet > self.balance:\n",
    "                    print(\"You can not bet that amount because you have not enough balance\")\n",
    "                    continue\n",
    "                else:\n",
    "                    print(f\"You have bet {bet}, GOOD LUCK !\")\n",
    "                    self.balance = self.balance - bet\n",
    "                    break\n",
    "    \n",
    "class Dealer():\n",
    "    \n",
    "    deck = [[1,2,3,4,5,6,7,8,9,'J','Q','K'],[1,2,3,4,5,6,7,8,9,'J','Q','K'],[1,2,3,4,5,6,7,8,9,'J','Q','K'],[1,2,3,4,5,6,7,8,9,'J','Q','K']\n",
    "    \n",
    "    def __init__(self, turn = 'HUMAN'):\n",
    "        self.turn = turn\n",
    "    \n",
    "    def init_deal(self, humanplayer, computerplayer):\n",
    "        card1 = random.choice(self.deck)\n",
    "        self.deck.remove(card1)\n",
    "        card2 = random.choice(self.deck)\n",
    "        self.deck.remove(card2)\n",
    "        print(f\"Tus cartas son: {card1} y {card2}\")\n",
    "        print(self.deck)\n",
    "        \n",
    " \n",
    "if __name__ == '__main__':\n",
    "    \n",
    "    humanplayer = Player()\n",
    "    computerplayer = Player()\n",
    "    dealer = Dealer()\n",
    "    while len(dealer.deck) != 0:\n",
    "        humanplayer.bet()\n",
    "        dealer.init_deal(humanplayer, computerplayer)\n",
    "    \n",
    "    "
   ]
  },
  {
   "cell_type": "code",
   "execution_count": null,
   "metadata": {},
   "outputs": [],
   "source": []
  },
  {
   "cell_type": "code",
   "execution_count": null,
   "metadata": {},
   "outputs": [],
   "source": []
  }
 ],
 "metadata": {
  "kernelspec": {
   "display_name": "Python 3",
   "language": "python",
   "name": "python3"
  },
  "language_info": {
   "codemirror_mode": {
    "name": "ipython",
    "version": 3
   },
   "file_extension": ".py",
   "mimetype": "text/x-python",
   "name": "python",
   "nbconvert_exporter": "python",
   "pygments_lexer": "ipython3",
   "version": "3.7.0"
  }
 },
 "nbformat": 4,
 "nbformat_minor": 1
}
