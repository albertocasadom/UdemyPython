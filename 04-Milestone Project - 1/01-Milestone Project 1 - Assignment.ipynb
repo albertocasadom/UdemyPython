{
 "cells": [
  {
   "cell_type": "markdown",
   "metadata": {},
   "source": [
    "# Milestone Project 1\n",
    "## Congratulations on making it to your first milestone!\n",
    "You've already learned a ton and are ready to work on a real project.\n",
    "\n",
    "Your assignment: Create a Tic Tac Toe game. You are free to use any IDE you like.\n",
    "\n",
    "Here are the requirements:\n",
    "\n",
    "* 2 players should be able to play the game (both sitting at the same computer)\n",
    "* The board should be printed out every time a player makes a move\n",
    "* You should be able to accept input of the player position and then place a symbol on the board\n",
    "\n",
    "Feel free to use Google to help you figure anything out (but don't just Google \"Tic Tac Toe in Python\" otherwise you won't learn anything!) Keep in mind that this project can take anywhere between several hours to several days.\n",
    "\n",
    "There are 4 Jupyter Notebooks related to this assignment:\n",
    "\n",
    "* This Assignment Notebook\n",
    "* A \"Walkthrough Steps Workbook\" Notebook\n",
    "* A \"Complete Walkthrough Solution\" Notebook\n",
    "* An \"Advanced Solution\" Notebook\n",
    "\n",
    "I encourage you to just try to start the project on your own without referencing any of the notebooks. If you get stuck, check out the next lecture which is a text lecture with helpful hints and steps. If you're still stuck after that, then check out the Walkthrough Steps Workbook, which breaks up the project in steps for you to solve. Still stuck? Then check out the Complete Walkthrough Solution video for more help on approaching the project!"
   ]
  },
  {
   "cell_type": "markdown",
   "metadata": {},
   "source": [
    "There are parts of this that will be a struggle...and that is good! I have complete faith that if you have made it this far through the course you have all the tools and knowledge to tackle this project. Remember, it's totally open book, so take your time, do a little research, and remember:\n",
    "\n",
    "## HAVE FUN!"
   ]
  },
  {
   "cell_type": "code",
   "execution_count": 13,
   "metadata": {},
   "outputs": [
    {
     "name": "stdout",
     "output_type": "stream",
     "text": [
      "|*******|*******|*******|\n",
      "|   O   |   8   |   X   |\n",
      "|*******|*******|*******|\n",
      "|   X   |   O   |   X   |\n",
      "|*******|*******|*******|\n",
      "|   1   |   O   |   X   |\n",
      "|*******|*******|*******|\n",
      "WINNER PLAYER 2 !!\n"
     ]
    }
   ],
   "source": [
    "from IPython.display import clear_output\n",
    "maplayer = {'P1': 'X', 'P2':'O', 'T':1}\n",
    "myboard = ['1','2','3','4','5','6','7','8','9']\n",
    "plays = 0\n",
    "def print_game(board):\n",
    "    clear_output()\n",
    "    print('|' + '*******' + '|' + '*******' + '|' + '*******' + '|')\n",
    "    print('|' + '   ' + board[6] + '   ' + '|' + '   ' + board[7] + '   ' + '|' + '   ' + board[8] + '   ' + '|' )\n",
    "    print('|' + '*******' + '|' + '*******' + '|' + '*******' + '|')\n",
    "    print('|' + '   ' + board[3] + '   ' + '|' + '   ' + board[4] + '   ' + '|' + '   ' + board[5] + '   ' + '|' )\n",
    "    print('|' + '*******' + '|' + '*******' + '|' + '*******' + '|')\n",
    "    print('|' + '   ' + board[0] + '   ' + '|' + '   ' + board[1] + '   ' + '|' + '   ' + board[2] + '   ' + '|' )\n",
    "    print('|' + '*******' + '|' + '*******' + '|' + '*******' + '|')\n",
    "\n",
    "def chooseform():\n",
    "    chose = ''\n",
    "    salir = 0\n",
    "    while salir == 0:\n",
    "        chose = input('Jugador1: Seleccione figura X o O: ')\n",
    "        if chose == 'X' or chose == 'O':\n",
    "            salir = 1   \n",
    "    maplayer['P1'] = chose\n",
    "    if chose == 'X':\n",
    "        maplayer['P2'] = 'O'\n",
    "    else:\n",
    "        maplayer['P2'] = 'X'\n",
    "\n",
    "def introducell():\n",
    "    if maplayer['T'] == 1:\n",
    "        cell = int(input(\"Jugador 1: Introduzca número de casilla: \"))\n",
    "        if myboard[cell-1] != 'X' or myboard[cell-1] != 0\n",
    "            myboard[cell-1] = maplayer['P1']\n",
    "            maplayer['T'] = 2\n",
    "    else:\n",
    "        cell = int(input(\"Jugador 2: Introduzca número de casilla: \"))\n",
    "        myboard[cell-1] = maplayer['P2']\n",
    "        maplayer['T'] = 1\n",
    "\n",
    "def checkboard(board):\n",
    "    return board[0] == board[1] == board[2] or board[3] == board[4] == board[5] or board[6] == board[7] == board[8] or board [0] == board[3] == board[6] or board[1] == board [4] == board[7] or board[2] == board[5] == board[8] or board [0] == board[4] == board[8] or board[6] == board[4] == board[2]\n",
    "    \n",
    "chooseform()\n",
    "win = 0\n",
    "while plays != 9:\n",
    "    print_game(myboard)\n",
    "    introducell()\n",
    "    plays+= 1\n",
    "    if checkboard(myboard):\n",
    "        print_game(myboard)\n",
    "        if maplayer['T'] == 1:  \n",
    "            print(\"WINNER PLAYER 2 !!\")\n",
    "        else:\n",
    "            print(\"WINNER PLAYER 1 !!\")\n",
    "        break\n",
    "if plays == 9:\n",
    "    print (\" \\t   TABLAS !!\")\n"
   ]
  },
  {
   "cell_type": "code",
   "execution_count": null,
   "metadata": {},
   "outputs": [],
   "source": [
    "\n"
   ]
  },
  {
   "cell_type": "code",
   "execution_count": null,
   "metadata": {},
   "outputs": [],
   "source": []
  }
 ],
 "metadata": {
  "kernelspec": {
   "display_name": "Python 3",
   "language": "python",
   "name": "python3"
  },
  "language_info": {
   "codemirror_mode": {
    "name": "ipython",
    "version": 3
   },
   "file_extension": ".py",
   "mimetype": "text/x-python",
   "name": "python",
   "nbconvert_exporter": "python",
   "pygments_lexer": "ipython3",
   "version": "3.7.0"
  }
 },
 "nbformat": 4,
 "nbformat_minor": 1
}
